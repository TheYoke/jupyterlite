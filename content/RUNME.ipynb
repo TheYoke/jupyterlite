{
 "cells": [
  {
   "cell_type": "code",
   "execution_count": null,
   "id": "9b5cbd03-87c3-4b2e-8a98-cd09a223156a",
   "metadata": {
    "jupyter": {
     "source_hidden": true
    }
   },
   "outputs": [],
   "source": [
    "# Run this cell to create widgets\n",
    "# (and do other things)\n",
    "%pip install ipywidgets\n",
    "\n",
    "from cryptography.hazmat.primitives.ciphers.aead import ChaCha20Poly1305\n",
    "from cryptography.hazmat.primitives.kdf.pbkdf2 import PBKDF2HMAC\n",
    "from cryptography.hazmat.primitives.hashes import SHA256\n",
    "from cryptography.exceptions import InvalidTag\n",
    "\n",
    "from IPython.display import display\n",
    "from ipywidgets import Password, Text\n",
    "\n",
    "from bs4 import BeautifulSoup\n",
    "import requests\n",
    "\n",
    "from base64 import b85encode, b85decode\n",
    "from zipfile import ZipFile\n",
    "from io import BytesIO\n",
    "import os\n",
    "\n",
    "RENTRY_URL_PREFIX = 'https://rentry.co/'\n",
    "# RENTRY_URL_PREFIX = 'https://rentry.org/'  # alternative .org domain\n",
    "\n",
    "class Rentry:\n",
    "    def __init__(self, rentry_id, rentry_code):\n",
    "        self.rentry_url = RENTRY_URL_PREFIX\n",
    "        self.rentry_id = rentry_id\n",
    "        self.rentry_code = rentry_code\n",
    "        self.rentry_url_id = self.rentry_url + rentry_id\n",
    "\n",
    "        self.session = requests.Session()\n",
    "        self.session.headers['Referer'] = self.rentry_url_id\n",
    "    \n",
    "    def __enter__(self):\n",
    "        return self\n",
    "\n",
    "    def __exit__(self, *args):\n",
    "        self.session.close()\n",
    "        return False\n",
    "\n",
    "    def _get_token(self):\n",
    "        response = self.session.get(self.rentry_url)\n",
    "        response.raise_for_status()\n",
    "\n",
    "        soup = BeautifulSoup(response.text, 'html.parser')\n",
    "        return soup.find('input', attrs={'name': 'csrfmiddlewaretoken'})['value']\n",
    "\n",
    "    def get_raw(self):\n",
    "        response = self.session.get(self.rentry_url_id + '/raw')\n",
    "        response.raise_for_status()\n",
    "        return response.text\n",
    "\n",
    "    def edit_text(self, text):\n",
    "        ''' maximum `text` length of 200,000 characters '''\n",
    "        data = {\n",
    "            'csrfmiddlewaretoken': self._get_token(),\n",
    "            'text': text,\n",
    "            'edit_code': self.rentry_code,\n",
    "        }\n",
    "\n",
    "        response = self.session.post(self.rentry_url_id + '/edit', data=data, allow_redirects=False)\n",
    "        assert response.status_code == 302 and response.headers['Location'] == '/' + self.rentry_id, 'wrong edit_code?'\n",
    "\n",
    "\n",
    "dirpath = Text(placeholder='In/Out Directory Path')\n",
    "passwd = Password(placeholder='Password')\n",
    "display(dirpath)\n",
    "display(passwd)"
   ]
  },
  {
   "cell_type": "code",
   "execution_count": null,
   "id": "7ef7c3d3-5a54-498b-a296-2c1f8ba7d13a",
   "metadata": {
    "jupyter": {
     "source_hidden": true
    }
   },
   "outputs": [],
   "source": [
    "# Run this cell to PULL\n",
    "\n",
    "key = PBKDF2HMAC(\n",
    "    algorithm=SHA256(),\n",
    "    length=48,\n",
    "    salt=b'\\xd1\\xaf\\xe7\\xfag\\x89\\xa5A\\xadt\\xc8\\xc3\\\\\\xb8\\xc6\\x8c',\n",
    "    iterations=1000000,\n",
    ").derive(passwd.value.encode())\n",
    "rentry_id, rentry_code, key = key[0:8].hex(), key[8:16].hex(), key[16:48]\n",
    "\n",
    "with Rentry(rentry_id, rentry_code) as rentry:\n",
    "    ct = b85decode(rentry.get_raw())  # will fail if password is wrong.\n",
    "    nonce, ct = ct[:12], ct[12:]\n",
    "\n",
    "chacha = ChaCha20Poly1305(key)\n",
    "try:\n",
    "    pt = chacha.decrypt(nonce, ct, None)\n",
    "except InvalidTag:\n",
    "    raise\n",
    "\n",
    "with ZipFile(BytesIO(pt), 'r') as zipfile:\n",
    "    zipfile.extractall(dirpath.value)"
   ]
  },
  {
   "cell_type": "raw",
   "id": "d778da76-4d31-481e-b839-bdd3d03bb856",
   "metadata": {
    "jupyter": {
     "source_hidden": true
    }
   },
   "source": [
    "# Change to cell to Code and run to PUSH (does not work on Jupyterlite/Pyodide)\n",
    "\n",
    "zipdata = BytesIO()\n",
    "with ZipFile(zipdata, 'w') as zipfile:\n",
    "    for root, _, filenames in os.walk(dirpath.value):\n",
    "        for filename in filenames:\n",
    "            filepath = os.path.join(root, filename)\n",
    "            relpath = os.path.relpath(filepath, dirpath.value)\n",
    "            zipfile.write(filepath, relpath)\n",
    "\n",
    "assert zipdata.tell() <= 159900\n",
    "\n",
    "key = PBKDF2HMAC(\n",
    "    algorithm=SHA256(),\n",
    "    length=48,\n",
    "    salt=b'\\xd1\\xaf\\xe7\\xfag\\x89\\xa5A\\xadt\\xc8\\xc3\\\\\\xb8\\xc6\\x8c',\n",
    "    iterations=1000000,\n",
    ").derive(passwd.value.encode())\n",
    "rentry_id, rentry_code, key = key[0:8].hex(), key[8:16].hex(), key[16:48]\n",
    "\n",
    "chacha = ChaCha20Poly1305(key)\n",
    "nonce = os.urandom(12)\n",
    "ct = chacha.encrypt(nonce, zipdata.getvalue(), None)\n",
    "with Rentry(rentry_id, rentry_code) as rentry:\n",
    "    rentry.edit_text(b85encode(nonce + ct))   # will fail if password is wrong."
   ]
  }
 ],
 "metadata": {
  "kernelspec": {
   "display_name": "Python 3 (ipykernel)",
   "language": "python",
   "name": "python3"
  },
  "language_info": {
   "codemirror_mode": {
    "name": "ipython",
    "version": 3
   },
   "file_extension": ".py",
   "mimetype": "text/x-python",
   "name": "python",
   "nbconvert_exporter": "python",
   "pygments_lexer": "ipython3",
   "version": "3.12.3"
  }
 },
 "nbformat": 4,
 "nbformat_minor": 5
}
